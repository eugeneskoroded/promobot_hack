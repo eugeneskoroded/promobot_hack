{
 "cells": [
  {
   "cell_type": "code",
   "execution_count": 7,
   "id": "06383d3c-4e32-446d-9ede-7a4d48bf6e66",
   "metadata": {},
   "outputs": [],
   "source": [
    "import pandas as pd\n",
    "import mlflow\n",
    "from sklearn.model_selection import train_test_split, ParameterGrid\n",
    "import torch\n",
    "from catboost import CatBoostClassifier\n",
    "from sklearn.metrics import classification_report, f1_score, accuracy_score\n",
    "\n",
    "from transformers import AutoModel, AutoTokenizer, Trainer, TrainingArguments, default_data_collator, DebertaV2Tokenizer, PegasusForConditionalGeneration, PegasusTokenizer\n",
    "from tqdm.notebook import tqdm"
   ]
  },
  {
   "cell_type": "code",
   "execution_count": 2,
   "id": "5c7bd6df-35a3-46c4-9b6c-1a3b74c7e9a7",
   "metadata": {},
   "outputs": [],
   "source": [
    "train = pd.read_csv(\"data/data_generated/train_with_embeddings.csv\")\n",
    "test = pd.read_csv(\"data/data_generated/test_with_embeddings.csv\")\n",
    "\n",
    "#train = pd.read_csv(\"data/data_generated/fewshot_embed_train.csv\") + tf\n",
    "#test = pd.read_csv(\"data/data_generated/fewshot_embed_test.csv\") + tf"
   ]
  },
  {
   "cell_type": "code",
   "execution_count": null,
   "id": "2b15f2af-749c-45bf-a16c-2af88a24d117",
   "metadata": {},
   "outputs": [],
   "source": []
  },
  {
   "cell_type": "code",
   "execution_count": 3,
   "id": "ce8577ce-2841-4247-ac26-f29e8420424d",
   "metadata": {},
   "outputs": [
    {
     "data": {
      "text/html": [
       "<div>\n",
       "<style scoped>\n",
       "    .dataframe tbody tr th:only-of-type {\n",
       "        vertical-align: middle;\n",
       "    }\n",
       "\n",
       "    .dataframe tbody tr th {\n",
       "        vertical-align: top;\n",
       "    }\n",
       "\n",
       "    .dataframe thead th {\n",
       "        text-align: right;\n",
       "    }\n",
       "</style>\n",
       "<table border=\"1\" class=\"dataframe\">\n",
       "  <thead>\n",
       "    <tr style=\"text-align: right;\">\n",
       "      <th></th>\n",
       "      <th>Исполнитель</th>\n",
       "      <th>Группа тем</th>\n",
       "      <th>Текст инцидента</th>\n",
       "      <th>Тема</th>\n",
       "      <th>0</th>\n",
       "      <th>1</th>\n",
       "      <th>2</th>\n",
       "      <th>3</th>\n",
       "      <th>4</th>\n",
       "      <th>5</th>\n",
       "      <th>...</th>\n",
       "      <th>nli_Строительство и архитектура</th>\n",
       "      <th>nli_Экономика и бизнес</th>\n",
       "      <th>nli_Физическая культура и спорт</th>\n",
       "      <th>nli_Связь и телевидение</th>\n",
       "      <th>nli_Газ и топливо</th>\n",
       "      <th>nli_Государственная собственность</th>\n",
       "      <th>nli_Торговля</th>\n",
       "      <th>nli_Памятники и объекты культурного наследия</th>\n",
       "      <th>nli_Погребение и похоронное дело</th>\n",
       "      <th>nli_Мобилизация</th>\n",
       "    </tr>\n",
       "  </thead>\n",
       "  <tbody>\n",
       "    <tr>\n",
       "      <th>0</th>\n",
       "      <td>Город Пермь</td>\n",
       "      <td>Погребение и похоронное дело</td>\n",
       "      <td>Погребения - это серьезная проблема в нашей ст...</td>\n",
       "      <td>Погребение и похоронное дело</td>\n",
       "      <td>-0.294947</td>\n",
       "      <td>-0.055111</td>\n",
       "      <td>-0.917189</td>\n",
       "      <td>0.076128</td>\n",
       "      <td>-0.168686</td>\n",
       "      <td>0.458902</td>\n",
       "      <td>...</td>\n",
       "      <td>0.021046</td>\n",
       "      <td>0.004908</td>\n",
       "      <td>0.044621</td>\n",
       "      <td>0.049851</td>\n",
       "      <td>0.026472</td>\n",
       "      <td>0.016191</td>\n",
       "      <td>0.014407</td>\n",
       "      <td>0.049282</td>\n",
       "      <td>0.13109</td>\n",
       "      <td>0.009004</td>\n",
       "    </tr>\n",
       "  </tbody>\n",
       "</table>\n",
       "<p>1 rows × 1054 columns</p>\n",
       "</div>"
      ],
      "text/plain": [
       "   Исполнитель                    Группа тем  \\\n",
       "0  Город Пермь  Погребение и похоронное дело   \n",
       "\n",
       "                                     Текст инцидента  \\\n",
       "0  Погребения - это серьезная проблема в нашей ст...   \n",
       "\n",
       "                           Тема         0         1         2         3  \\\n",
       "0  Погребение и похоронное дело -0.294947 -0.055111 -0.917189  0.076128   \n",
       "\n",
       "          4         5  ...  nli_Строительство и архитектура  \\\n",
       "0 -0.168686  0.458902  ...                         0.021046   \n",
       "\n",
       "   nli_Экономика и бизнес  nli_Физическая культура и спорт  \\\n",
       "0                0.004908                         0.044621   \n",
       "\n",
       "   nli_Связь и телевидение  nli_Газ и топливо  \\\n",
       "0                 0.049851           0.026472   \n",
       "\n",
       "   nli_Государственная собственность  nli_Торговля  \\\n",
       "0                           0.016191      0.014407   \n",
       "\n",
       "   nli_Памятники и объекты культурного наследия  \\\n",
       "0                                      0.049282   \n",
       "\n",
       "   nli_Погребение и похоронное дело  nli_Мобилизация  \n",
       "0                           0.13109         0.009004  \n",
       "\n",
       "[1 rows x 1054 columns]"
      ]
     },
     "execution_count": 3,
     "metadata": {},
     "output_type": "execute_result"
    }
   ],
   "source": [
    "train.head(1)"
   ]
  },
  {
   "cell_type": "code",
   "execution_count": 4,
   "id": "b1a0f9ce-fa7a-4062-bc7a-645b55786b44",
   "metadata": {
    "scrolled": true
   },
   "outputs": [],
   "source": [
    "param_grid = {\n",
    "    'iterations': [100, 250, 500]\n",
    "}\n",
    "grid = list(ParameterGrid(param_grid))"
   ]
  },
  {
   "cell_type": "code",
   "execution_count": 5,
   "id": "90253aef-f83c-4534-8f4d-50da7d7b44b3",
   "metadata": {},
   "outputs": [
    {
     "data": {
      "text/plain": [
       "<Experiment: artifact_location='file:///workspace/mlruns/548987682160929580', creation_time=1700788368162, experiment_id='548987682160929580', last_update_time=1700788368162, lifecycle_stage='active', name='embedding_mean', tags={}>"
      ]
     },
     "execution_count": 5,
     "metadata": {},
     "output_type": "execute_result"
    }
   ],
   "source": [
    "mlflow.set_experiment('embedding_mean')"
   ]
  },
  {
   "cell_type": "code",
   "execution_count": 6,
   "id": "2ec88741-af3a-4194-ad4f-56ada796a27d",
   "metadata": {
    "scrolled": true
   },
   "outputs": [
    {
     "name": "stderr",
     "output_type": "stream",
     "text": [
      "/opt/conda/lib/python3.10/site-packages/_distutils_hack/__init__.py:33: UserWarning: Setuptools is replacing distutils.\n",
      "  warnings.warn(\"Setuptools is replacing distutils.\")\n",
      "/opt/conda/lib/python3.10/site-packages/sklearn/metrics/_classification.py:1471: UndefinedMetricWarning: Precision and F-score are ill-defined and being set to 0.0 in labels with no predicted samples. Use `zero_division` parameter to control this behavior.\n",
      "  _warn_prf(average, modifier, msg_start, len(result))\n",
      "/opt/conda/lib/python3.10/site-packages/sklearn/metrics/_classification.py:1471: UndefinedMetricWarning: Precision and F-score are ill-defined and being set to 0.0 in labels with no predicted samples. Use `zero_division` parameter to control this behavior.\n",
      "  _warn_prf(average, modifier, msg_start, len(result))\n",
      "/opt/conda/lib/python3.10/site-packages/sklearn/metrics/_classification.py:1471: UndefinedMetricWarning: Precision and F-score are ill-defined and being set to 0.0 in labels with no predicted samples. Use `zero_division` parameter to control this behavior.\n",
      "  _warn_prf(average, modifier, msg_start, len(result))\n",
      "/opt/conda/lib/python3.10/site-packages/sklearn/metrics/_classification.py:1471: UndefinedMetricWarning: Precision and F-score are ill-defined and being set to 0.0 in labels with no predicted samples. Use `zero_division` parameter to control this behavior.\n",
      "  _warn_prf(average, modifier, msg_start, len(result))\n",
      "/opt/conda/lib/python3.10/site-packages/sklearn/metrics/_classification.py:1471: UndefinedMetricWarning: Precision and F-score are ill-defined and being set to 0.0 in labels with no predicted samples. Use `zero_division` parameter to control this behavior.\n",
      "  _warn_prf(average, modifier, msg_start, len(result))\n",
      "/opt/conda/lib/python3.10/site-packages/sklearn/metrics/_classification.py:1471: UndefinedMetricWarning: Precision and F-score are ill-defined and being set to 0.0 in labels with no predicted samples. Use `zero_division` parameter to control this behavior.\n",
      "  _warn_prf(average, modifier, msg_start, len(result))\n"
     ]
    }
   ],
   "source": [
    "\n",
    "model_name, model_length = ('sberbank-ai/sbert_large_nlu_ru', 512)\n",
    "    \n",
    "for params in grid:\n",
    "    try:\n",
    "        with mlflow.start_run(nested=True):\n",
    "            catboost_model = CatBoostClassifier(**params, verbose=0, random_seed=42)\n",
    "            catboost_model.fit(train.drop(columns=[\"Текст инцидента\", \"Группа тем\", \"Исполнитель\", \"Тема\"]), train[\"Группа тем\"])\n",
    "\n",
    "            predictions = catboost_model.predict(test.drop(columns=[\"Текст инцидента\", \"Группа тем\", \"Исполнитель\", \"Тема\"]))\n",
    "            \n",
    "            accuracy = accuracy_score(test[\"Группа тем\"], predictions)\n",
    "            f1 = f1_score(test[\"Группа тем\"], predictions, average='weighted') \n",
    "            report = classification_report(test[\"Группа тем\"], predictions, output_dict=True)\n",
    "            report_text =  classification_report(test[\"Группа тем\"], predictions)\n",
    "\n",
    "            \n",
    "            mlflow.log_metric(\"report_accuracy\", report['accuracy'])\n",
    "            mlflow.log_metric(\"macro avg_precision\", report['macro avg']['precision'])\n",
    "            mlflow.log_metric(\"macro avg_recall\", report['macro avg']['recall'])\n",
    "            mlflow.log_metric(\"macro avg_f1-score\", report['macro avg']['f1-score'])\n",
    "            mlflow.log_metric(\"weighted avg_precision\", report['weighted avg']['precision'])\n",
    "            mlflow.log_metric(\"weighted avg_recall\", report['weighted avg']['recall'])\n",
    "            mlflow.log_metric(\"weighted avg_f1-score\", report['weighted avg']['f1-score'])\n",
    "\n",
    "            mlflow.log_text(report_text, \"classification_report.txt\")\n",
    "            \n",
    "            mlflow.set_tag(\"embedding_name\", model_name)\n",
    "            mlflow.set_tag(\"embedding_size\", model_length)\n",
    "            mlflow.set_tag(\"embedding_type\", \"mean\")\n",
    "            mlflow.set_tag(\"dataset_name\", \"clear_v2_generated_few_shot_tf_idf\")\n",
    "            mlflow.set_tag(\"model_name\", \"catboost\")\n",
    "            mlflow.catboost.log_model(catboost_model, \"model\")\n",
    "            mlflow.log_params(params)\n",
    "            mlflow.log_metrics({'accuracy': accuracy, 'f1-weighted': f1})\n",
    "    except Exception as e:\n",
    "        error_name = type(e).__name__\n",
    "        print(f\"Caught an error: {error_name}\")"
   ]
  },
  {
   "cell_type": "code",
   "execution_count": null,
   "id": "4e83b982-6c92-4276-abdd-c5bfa96f99b3",
   "metadata": {},
   "outputs": [],
   "source": []
  },
  {
   "cell_type": "code",
   "execution_count": null,
   "id": "dd54381c-53f6-4940-9f83-32dc64fe18fd",
   "metadata": {},
   "outputs": [],
   "source": []
  },
  {
   "cell_type": "code",
   "execution_count": null,
   "id": "a8d1589d-f61c-442c-8c1a-e53a7a6df595",
   "metadata": {},
   "outputs": [],
   "source": []
  }
 ],
 "metadata": {
  "kernelspec": {
   "display_name": "Python 3 (ipykernel)",
   "language": "python",
   "name": "python3"
  },
  "language_info": {
   "codemirror_mode": {
    "name": "ipython",
    "version": 3
   },
   "file_extension": ".py",
   "mimetype": "text/x-python",
   "name": "python",
   "nbconvert_exporter": "python",
   "pygments_lexer": "ipython3",
   "version": "3.10.13"
  }
 },
 "nbformat": 4,
 "nbformat_minor": 5
}
