{
 "cells": [
  {
   "cell_type": "code",
   "execution_count": 34,
   "id": "afda3ed4-cecc-4d98-80be-40d4c1d0a894",
   "metadata": {},
   "outputs": [],
   "source": [
    "import torch\n",
    "import torch.nn as nn\n",
    "import pandas as pd\n",
    "\n",
    "from typing import List\n",
    "\n",
    "from transformers import AutoTokenizer, AutoModelForSequenceClassification, AutoModel\n",
    "\n",
    "from sklearn.model_selection import train_test_split\n",
    "\n",
    "from tqdm.notebook import tqdm"
   ]
  },
  {
   "cell_type": "code",
   "execution_count": 35,
   "id": "c7a6909e-ca8b-4608-88c0-43e11501ab51",
   "metadata": {},
   "outputs": [],
   "source": [
    "def concat(paths: List[str]) -> pd.DataFrame:\n",
    "    return pd.concat([pd.read_csv(path) for path in paths])"
   ]
  },
  {
   "cell_type": "code",
   "execution_count": 36,
   "id": "cf6e78c9-2fcc-4ae1-84fd-5b278c4441d4",
   "metadata": {},
   "outputs": [],
   "source": [
    "data = pd.read_csv(\"../train_dataset_train_variant2.csv\")\n",
    "\n",
    "concated_new_train_data = concat(paths=[\n",
    "    \"../generated_train_saiga_v1.csv\", \"../generated_train_saiga_v2.csv\",\n",
    "    \"../generated_train_mistral.csv\", \"../generated_train_paraphraser.csv\",\n",
    "])"
   ]
  },
  {
   "cell_type": "code",
   "execution_count": 45,
   "id": "d1d370c7-579d-4c6b-9f9f-cd640dd1ba3a",
   "metadata": {},
   "outputs": [],
   "source": [
    "train, test = train_test_split(data, random_state=42, test_size=0.33, stratify=data[\"Группа тем\"] + data[\"Тема\"])"
   ]
  },
  {
   "cell_type": "code",
   "execution_count": 46,
   "id": "8184489c-df46-4bf4-89f5-0be2d651525a",
   "metadata": {},
   "outputs": [],
   "source": [
    "# concat old train with new generated train data\n",
    "\n",
    "train = pd.concat([train, concated_new_train_data])\n",
    "\n",
    "train.index = range(len(train))\n",
    "test.index = range(len(test))"
   ]
  },
  {
   "cell_type": "code",
   "execution_count": 47,
   "id": "096c6af6-a5de-40ab-ace7-38cba5037cac",
   "metadata": {},
   "outputs": [],
   "source": [
    "class EmbeddingsGenerator:\n",
    "    \n",
    "    def __init__(self, model_name, model_length, batch_size):\n",
    "        self.model_name = model_name.split('/')[-1]\n",
    "        self.tokenizer = AutoTokenizer.from_pretrained(model_name)\n",
    "        self.model = AutoModel.from_pretrained(model_name).to(\"cuda\")\n",
    "        self.model_length = model_length\n",
    "        self.batch_size = batch_size\n",
    "\n",
    "    def mean_pooling(self, model_output, attention_mask):\n",
    "        token_embeddings = model_output[0] #First element of model_output contains all token embeddings\n",
    "        input_mask_expanded = attention_mask.unsqueeze(-1).expand(token_embeddings.size()).float()\n",
    "        sum_embeddings = torch.sum(token_embeddings * input_mask_expanded, 1)\n",
    "        sum_mask = torch.clamp(input_mask_expanded.sum(1), min=1e-9)\n",
    "        return sum_embeddings / sum_mask\n",
    "        \n",
    "    def create_embeddings(self, texts):\n",
    "        batches = [texts[i:i + self.batch_size] for i in range(0, len(texts), self.batch_size)]\n",
    "    \n",
    "        embeddings = []\n",
    "        with torch.no_grad():\n",
    "    \n",
    "            for batch in tqdm(batches):\n",
    "                encoded_input = self.tokenizer(batch, padding=True, truncation=True, return_tensors='pt', max_length=self.model_length)\n",
    "                encoded_input = {key: val.to('cuda') for key, val in encoded_input.items()}\n",
    "    \n",
    "                model_output = self.model(**encoded_input)\n",
    "                \n",
    "                embedding = self.mean_pooling(model_output, encoded_input['attention_mask'])\n",
    "                \n",
    "                sentence_embeddings = embedding.tolist()\n",
    "                embeddings.extend(sentence_embeddings)\n",
    "    \n",
    "                torch.cuda.empty_cache()\n",
    "        \n",
    "        return embeddings\n",
    "\n",
    "    def create_datasets(self, train, test):\n",
    "        train_, test_ = train.copy(), test.copy()\n",
    "\n",
    "        train_embeddings = pd.DataFrame(self.create_embeddings(train_[\"Текст инцидента\"].to_list()))\n",
    "        test_embeddings = pd.DataFrame(self.create_embeddings(test_[\"Текст инцидента\"].to_list()))\n",
    "\n",
    "        train_ = pd.concat([train_, train_embeddings], axis=1)\n",
    "        test_ = pd.concat([test_, test_embeddings], axis=1)\n",
    "\n",
    "        return train_, test_"
   ]
  },
  {
   "cell_type": "code",
   "execution_count": 48,
   "id": "83cac246-2bcc-4a15-9cb2-5dc19f0a6707",
   "metadata": {},
   "outputs": [],
   "source": [
    "embedding_generator = EmbeddingsGenerator(\n",
    "    model_name=\"sberbank-ai/sbert_large_mt_nlu_ru\", model_length=512, batch_size=32\n",
    ")"
   ]
  },
  {
   "cell_type": "code",
   "execution_count": 49,
   "id": "7f4eeb69-ce1f-4bcf-b248-c490be440bd8",
   "metadata": {},
   "outputs": [
    {
     "data": {
      "application/vnd.jupyter.widget-view+json": {
       "model_id": "eff8574342dd4ccfa01af05c8c3bb9ca",
       "version_major": 2,
       "version_minor": 0
      },
      "text/plain": [
       "  0%|          | 0/605 [00:00<?, ?it/s]"
      ]
     },
     "metadata": {},
     "output_type": "display_data"
    },
    {
     "data": {
      "application/vnd.jupyter.widget-view+json": {
       "model_id": "da80a57ac83d40519e1c9fbbab1eed6e",
       "version_major": 2,
       "version_minor": 0
      },
      "text/plain": [
       "  0%|          | 0/233 [00:00<?, ?it/s]"
      ]
     },
     "metadata": {},
     "output_type": "display_data"
    }
   ],
   "source": [
    "train_with_embeddings, test_with_embeddings = embedding_generator.create_datasets(train, test)"
   ]
  },
  {
   "cell_type": "code",
   "execution_count": 51,
   "id": "3a002f42-545e-4cbf-9f4c-e5943df44d24",
   "metadata": {},
   "outputs": [],
   "source": [
    "train_with_embeddings.to_csv(\"data/train_with_embeddings_v2.csv\", index=False)\n",
    "test_with_embeddings.to_csv(\"data/test_with_embeddings_v2.csv\", index=False)"
   ]
  },
  {
   "cell_type": "code",
   "execution_count": 53,
   "id": "7e2c422d-5b67-4d8a-8bcb-6b3de8c46409",
   "metadata": {},
   "outputs": [
    {
     "data": {
      "text/plain": [
       "0                          Хамство медицинских работников\n",
       "1                            Ремонт спортивных учреждений\n",
       "2       ★ Нарушение правил очистки дорог от снега и на...\n",
       "3       Нехватка или сокращение врачей и медицинских у...\n",
       "4       ★ Нарушение правил уборки от снега и наледи вн...\n",
       "                              ...                        \n",
       "7430                            Оказание гос. соц. помощи\n",
       "7431                              Ямы и выбоины на дороге\n",
       "7432    ★ Оказание медицинской помощи не в полном объе...\n",
       "7433        Нехватка материально-технического обеспечения\n",
       "7434               Завышение платы за коммунальные услуги\n",
       "Name: Тема, Length: 7435, dtype: object"
      ]
     },
     "execution_count": 53,
     "metadata": {},
     "output_type": "execute_result"
    }
   ],
   "source": [
    "test[\"Тема\"]"
   ]
  },
  {
   "cell_type": "code",
   "execution_count": 54,
   "id": "842a1236-bae6-4630-9e1c-69b5be20d85e",
   "metadata": {},
   "outputs": [],
   "source": [
    "train, test = pd.read_csv(\"data/row_data/final_train.csv\"), pd.read_csv(\"data/row_data/final_test.csv\")"
   ]
  },
  {
   "cell_type": "code",
   "execution_count": 56,
   "id": "007ea825-0527-44d4-a99c-666615e5dd53",
   "metadata": {},
   "outputs": [],
   "source": [
    "full = pd.concat([train, test])"
   ]
  },
  {
   "cell_type": "code",
   "execution_count": 58,
   "id": "a289533b-d328-4f29-bc5f-27b0a15e37c7",
   "metadata": {},
   "outputs": [],
   "source": [
    "full.to_csv(\"data/row_data/final_full.csv\", index=False)"
   ]
  },
  {
   "cell_type": "code",
   "execution_count": null,
   "id": "3058c0cb-911e-41b3-a6e3-dfc84cf229ab",
   "metadata": {},
   "outputs": [],
   "source": []
  }
 ],
 "metadata": {
  "kernelspec": {
   "display_name": "Python 3 (ipykernel)",
   "language": "python",
   "name": "python3"
  },
  "language_info": {
   "codemirror_mode": {
    "name": "ipython",
    "version": 3
   },
   "file_extension": ".py",
   "mimetype": "text/x-python",
   "name": "python",
   "nbconvert_exporter": "python",
   "pygments_lexer": "ipython3",
   "version": "3.10.13"
  }
 },
 "nbformat": 4,
 "nbformat_minor": 5
}
