{
 "cells": [
  {
   "cell_type": "code",
   "execution_count": 97,
   "id": "f5248f82-c727-4c70-b79a-30e754b18ab7",
   "metadata": {
    "tags": []
   },
   "outputs": [],
   "source": [
    "import matplotlib.pyplot as plt\n",
    "\n",
    "import numpy as np\n",
    "import pandas as pd\n",
    "\n",
    "import torch\n",
    "import torch.nn as nn\n",
    "import torch.nn.functional as F\n",
    "\n",
    "from transformers import AutoModel, AutoTokenizer\n",
    "\n",
    "from torch.optim import Adam\n",
    "from torch.nn import BCEWithLogitsLoss, BCELoss\n",
    "\n",
    "from sklearn.model_selection import train_test_split\n",
    "\n",
    "from sklearn.metrics import classification_report\n",
    "\n",
    "from tqdm.notebook import tqdm\n",
    "\n",
    "from typing import Tuple, List, Dict\n",
    "\n",
    "DEVICE = \"cuda\""
   ]
  },
  {
   "cell_type": "code",
   "execution_count": 9,
   "id": "b046b4ad-ea6c-4df4-9aa6-3ef6ccc28d96",
   "metadata": {},
   "outputs": [
    {
     "name": "stdout",
     "output_type": "stream",
     "text": [
      "Sat Nov 25 10:11:55 2023       \n",
      "+-----------------------------------------------------------------------------+\n",
      "| NVIDIA-SMI 525.105.17   Driver Version: 525.105.17   CUDA Version: 12.0     |\n",
      "|-------------------------------+----------------------+----------------------+\n",
      "| GPU  Name        Persistence-M| Bus-Id        Disp.A | Volatile Uncorr. ECC |\n",
      "| Fan  Temp  Perf  Pwr:Usage/Cap|         Memory-Usage | GPU-Util  Compute M. |\n",
      "|                               |                      |               MIG M. |\n",
      "|===============================+======================+======================|\n",
      "|   0  NVIDIA A40          On   | 00000000:23:00.0 Off |                    0 |\n",
      "|  0%   47C    P0   161W / 300W |   4824MiB / 46068MiB |     41%      Default |\n",
      "|                               |                      |                  N/A |\n",
      "+-------------------------------+----------------------+----------------------+\n",
      "                                                                               \n",
      "+-----------------------------------------------------------------------------+\n",
      "| Processes:                                                                  |\n",
      "|  GPU   GI   CI        PID   Type   Process name                  GPU Memory |\n",
      "|        ID   ID                                                   Usage      |\n",
      "|=============================================================================|\n",
      "+-----------------------------------------------------------------------------+\n"
     ]
    }
   ],
   "source": [
    "!nvidia-smi"
   ]
  },
  {
   "cell_type": "code",
   "execution_count": 123,
   "id": "a1c89489-9243-4e20-8d11-58510c6dad9e",
   "metadata": {},
   "outputs": [],
   "source": [
    "entailments = np.load(\"data/meta_data/entailments_scores.npy\")\n",
    "\n",
    "def filter_train_with_nli(train: pd.DataFrame, entailments: np.array, threshold: float) -> pd.DataFrame:\n",
    "    return train[entailments > threshold]"
   ]
  },
  {
   "cell_type": "code",
   "execution_count": 124,
   "id": "79b4d1bd-0cf3-49ca-a25d-a134bd7e2bfa",
   "metadata": {},
   "outputs": [],
   "source": [
    "def get_data_from_paths(paths: List[str]) -> pd.DataFrame:\n",
    "    dfs = [pd.read_csv(path) for path in paths]\n",
    "\n",
    "    non_embeddings_columns = [\"Исполнитель\", \"Группа тем\", \"Текст инцидента\", \"Тема\"]\n",
    "\n",
    "    embeddings = []\n",
    "    for df in dfs:\n",
    "        embeddings.append(df[[column for column in df.columns if column not in non_embeddings_columns]].values)\n",
    "\n",
    "    embeddings = np.concatenate(embeddings, axis=1)\n",
    "\n",
    "    df = pd.DataFrame(data=dfs[0][non_embeddings_columns], columns=non_embeddings_columns)\n",
    "\n",
    "    return pd.concat([df, pd.DataFrame(embeddings)], axis=1)"
   ]
  },
  {
   "cell_type": "code",
   "execution_count": 150,
   "id": "03cf4743-a3c6-448f-92e3-8b56f1e95f22",
   "metadata": {
    "tags": []
   },
   "outputs": [],
   "source": [
    "train1 = get_data_from_paths(paths=[\n",
    "    \"data/final_full_train_tfidf_umap.csv\",\n",
    "])\n",
    "\n",
    "train1[\"Группа тем\"] = \"Группа: \" + train1[\"Группа тем\"]\n",
    "\n",
    "train2 = get_data_from_paths(paths=[\n",
    "    \"data/train_with_embeddings.csv\",\n",
    "])\n",
    "\n",
    "train2[\"Группа тем\"] = \"Группа: \" + train2[\"Группа тем\"]\n",
    "\n",
    "test2 = get_data_from_paths(paths=[\n",
    "    \"data/test_with_embeddings.csv\"\n",
    "])\n",
    "\n",
    "test2[\"Группа тем\"] = \"Группа: \" + test2[\"Группа тем\"]\n",
    "\n",
    "train2 = pd.concat([train2, test2])\n",
    "\n",
    "train2.index = range(len(train2))\n",
    "train1.index = range(len(train1))"
   ]
  },
  {
   "cell_type": "code",
   "execution_count": 163,
   "id": "4c216d7c-83d6-4b7d-b95d-008680963f3b",
   "metadata": {},
   "outputs": [
    {
     "data": {
      "text/plain": [
       "500"
      ]
     },
     "execution_count": 163,
     "metadata": {},
     "output_type": "execute_result"
    }
   ],
   "source": [
    "1528 - 4 - 1024"
   ]
  },
  {
   "cell_type": "code",
   "execution_count": 165,
   "id": "8bb0e41b-1d2a-4535-929c-f8fd39a8ee7a",
   "metadata": {},
   "outputs": [],
   "source": [
    "train = pd.concat([train2, train1[[k for k in range(500)]]], axis=1)\n",
    "train.columns = [\"Исполнитель\", \"Группа тем\", \"Текст инцидента\", \"Тема\"] + [k for k in range(1524)]"
   ]
  },
  {
   "cell_type": "code",
   "execution_count": 172,
   "id": "9fd0bcb1-e05c-4af1-825f-803f7fbb793c",
   "metadata": {
    "tags": []
   },
   "outputs": [],
   "source": [
    "def generate_unique_labels(data: pd.DataFrame) -> List[str]:\n",
    "    unique_groups = data[\"Группа тем\"].unique().tolist()\n",
    "    \n",
    "    unique_themes = []\n",
    "    for group in unique_groups:\n",
    "        unique_themes.extend(data[data[\"Группа тем\"] == group][\"Тема\"].unique().tolist())\n",
    "    \n",
    "    return unique_groups + unique_themes\n",
    "\n",
    "def generate_pytorch_labels(data: pd.DataFrame, uniques: List[str]) -> torch.Tensor:    \n",
    "    n_uniques = len(uniques)\n",
    "    \n",
    "    pytorch_labels = []\n",
    "    for _, row in data.iterrows():\n",
    "        labels = torch.zeros(n_uniques)\n",
    "                \n",
    "        labels[uniques.index(row[\"Группа тем\"])] = 1\n",
    "        labels[uniques.index(row[\"Тема\"])] = 1\n",
    "        \n",
    "        pytorch_labels.append(labels.reshape(1, -1))\n",
    "    \n",
    "    return torch.cat(pytorch_labels)\n",
    "\n",
    "\n",
    "def generate_tree_of_labels(data: pd.DataFrame, mapping: Dict[str, int]) -> Dict[str, List[str]]:\n",
    "    tree = {}\n",
    "    \n",
    "    for group in data[\"Группа тем\"].unique():\n",
    "        tree[mapping[group]] = []\n",
    "        \n",
    "        for theme in data[data[\"Группа тем\"] == group][\"Тема\"].unique():\n",
    "            tree[mapping[group]].append(mapping[theme])\n",
    "            \n",
    "    return tree"
   ]
  },
  {
   "cell_type": "code",
   "execution_count": 173,
   "id": "244ee975-b9b1-4056-b295-c588fa2b18a0",
   "metadata": {
    "tags": []
   },
   "outputs": [],
   "source": [
    "uniques = generate_unique_labels(train)\n",
    "\n",
    "mapping = {label: k for k, label in enumerate(uniques)}\n",
    "reversed_mapping = {k: label for k, label in enumerate(uniques)}\n",
    "\n",
    "tree = generate_tree_of_labels(train, mapping)"
   ]
  },
  {
   "cell_type": "code",
   "execution_count": 174,
   "id": "542a2e76-8004-4d9f-a3fe-e9b702ebde53",
   "metadata": {
    "tags": []
   },
   "outputs": [],
   "source": [
    "train_labels = generate_pytorch_labels(train, uniques).to(DEVICE).float()"
   ]
  },
  {
   "cell_type": "code",
   "execution_count": 175,
   "id": "c6742454-8b0f-41c7-8301-9bc5e712a7ed",
   "metadata": {},
   "outputs": [],
   "source": [
    "train_embeddings = train[[k for k in range(train.columns[-1] + 1)]]\n",
    "train_embeddings = torch.from_numpy(train_embeddings.values).to(DEVICE).float()\n",
    "\n",
    "# test_embeddings = test[[k for k in range(train.columns[-1] + 1)]]\n",
    "# test_embeddings = torch.from_numpy(test_embeddings.values).to(DEVICE).float()"
   ]
  },
  {
   "cell_type": "code",
   "execution_count": 177,
   "id": "a4400609-8e43-457c-9660-503fc20d8c3e",
   "metadata": {
    "tags": []
   },
   "outputs": [],
   "source": [
    "class Layer(nn.Module):\n",
    "    \n",
    "    def __init__(self, dim: int, device: str = \"cuda\"):\n",
    "        super().__init__()\n",
    "                        \n",
    "        self.linear = nn.Sequential(\n",
    "            nn.Linear(dim, dim, device=device),\n",
    "            nn.BatchNorm1d(dim, device=device),\n",
    "            nn.ReLU(),\n",
    "        )\n",
    "        \n",
    "    def forward(self, x):        \n",
    "        return self.linear(x)\n",
    "    \n",
    "    \n",
    "class HierarchicalSoftmax(nn.Module):\n",
    "    \n",
    "    def __init__(self, tree: Dict[int, List[int]]):\n",
    "        super().__init__()\n",
    "        \n",
    "        self.tree = tree\n",
    "        self.specified_indexes_list = [list(tree.keys())]\n",
    "        \n",
    "        for head in tree.keys():\n",
    "            self.specified_indexes_list.append(tree[head])\n",
    "    \n",
    "    def forward(self, x):\n",
    "        x = x.clone()\n",
    "        \n",
    "        for specified_indexes in self.specified_indexes_list:\n",
    "            sub_tensor = x[:, specified_indexes]\n",
    "        \n",
    "            softmax_result = F.softmax(sub_tensor, dim=1)\n",
    "        \n",
    "            x[:, specified_indexes] = softmax_result\n",
    "            \n",
    "        return x\n",
    "\n",
    "\n",
    "class Model(nn.Module):\n",
    "    \n",
    "    def __init__(self, embed_dim: int, hidden_dim: int, num_classes: int, n_layers: int = 1, device: str = \"cuda\"):\n",
    "        super().__init__()\n",
    "        \n",
    "        self.input = nn.Linear(embed_dim, hidden_dim, device=device)\n",
    "        self.relu = nn.ReLU()\n",
    "        self.layers = nn.ModuleList([Layer(hidden_dim, device) for _ in range(n_layers)])\n",
    "        self.output = nn.Linear(hidden_dim, num_classes, device=device)\n",
    "        \n",
    "    def forward(self, x):\n",
    "        x = self.input(x)\n",
    "        x = self.relu(x)\n",
    "        \n",
    "        for layer in self.layers:\n",
    "            x = layer(x)\n",
    "        \n",
    "        return self.output(x)"
   ]
  },
  {
   "cell_type": "code",
   "execution_count": 178,
   "id": "e99d6a98-f4e2-4d78-aaf3-098c875586c0",
   "metadata": {
    "tags": []
   },
   "outputs": [],
   "source": [
    "torch.manual_seed(100)\n",
    "\n",
    "model = Model(embed_dim=train_embeddings.shape[1], num_classes=train_labels.shape[1], n_layers=1, hidden_dim=1024)"
   ]
  },
  {
   "cell_type": "code",
   "execution_count": 179,
   "id": "b6f2b8fe-1ac5-4235-8aa1-ab7679a60470",
   "metadata": {
    "tags": []
   },
   "outputs": [],
   "source": [
    "optimizer = Adam(params=model.parameters(), lr=1e-3)\n",
    "loss_func = BCEWithLogitsLoss()"
   ]
  },
  {
   "cell_type": "code",
   "execution_count": 180,
   "id": "be1bd7f9-38ae-4e9e-8469-d200695f6f06",
   "metadata": {
    "tags": []
   },
   "outputs": [
    {
     "data": {
      "application/vnd.jupyter.widget-view+json": {
       "model_id": "324664afddfa4810b897bb687b3d4c66",
       "version_major": 2,
       "version_minor": 0
      },
      "text/plain": [
       "  0%|          | 0/400 [00:00<?, ?it/s]"
      ]
     },
     "metadata": {},
     "output_type": "display_data"
    }
   ],
   "source": [
    "N_EPOCHS = 400\n",
    "\n",
    "losses = []\n",
    "\n",
    "for _ in tqdm(range(N_EPOCHS)):\n",
    "    outputs = model(train_embeddings)\n",
    "    \n",
    "    loss = loss_func(outputs, train_labels)\n",
    "    loss.backward()\n",
    "    \n",
    "    losses.append(loss.item())\n",
    "    \n",
    "    optimizer.step()\n",
    "    optimizer.zero_grad()"
   ]
  },
  {
   "cell_type": "code",
   "execution_count": 181,
   "id": "17ece547-8161-4ba4-9c1b-6ac7cf66d4ed",
   "metadata": {
    "tags": []
   },
   "outputs": [
    {
     "data": {
      "text/plain": [
       "[<matplotlib.lines.Line2D at 0x7f73083ab220>]"
      ]
     },
     "execution_count": 181,
     "metadata": {},
     "output_type": "execute_result"
    },
    {
     "data": {
      "image/png": "[encoded data removed]",
      "text/plain": [
       "<Figure size 640x480 with 1 Axes>"
      ]
     },
     "metadata": {},
     "output_type": "display_data"
    }
   ],
   "source": [
    "plt.plot(losses)"
   ]
  },
  {
   "cell_type": "code",
   "execution_count": 182,
   "id": "6bb3b5e4-7a15-490c-b0c3-c8065a5e9d33",
   "metadata": {
    "tags": []
   },
   "outputs": [],
   "source": [
    "def predict(output: torch.Tensor, tree: Dict[int, List[int]]):\n",
    "    softmax = HierarchicalSoftmax(tree)\n",
    "    \n",
    "    output = softmax(output)\n",
    "    \n",
    "    tree_heads = list(tree.keys())\n",
    "    \n",
    "    groups_prob = output[:, tree_heads]\n",
    "    \n",
    "    groups_index = groups_prob.argmax(dim=1).tolist()\n",
    "    \n",
    "    indexes = []\n",
    "    for k, gi in enumerate(tqdm(groups_index)):\n",
    "        theme_index = output[:, tree[gi]].argmax(dim=1)[k].item()\n",
    "        \n",
    "        indexes.append([gi, tree[gi][theme_index]])\n",
    "        \n",
    "    return indexes\n",
    "\n",
    "def decode_predictions(predictions):\n",
    "    decoded_predictions = []\n",
    "\n",
    "    for pred in predictions:\n",
    "        decoded_predictions.append([reversed_mapping[pred[0]], reversed_mapping[pred[1]]])\n",
    "        \n",
    "    return np.array(decoded_predictions)\n",
    "\n",
    "\n",
    "def evaluate(true, pred, output_dict=True):\n",
    "    true_groups, true_themes = true[:, 0], true[:, 1]\n",
    "    pred_groups, pred_themes = pred[:, 0], pred[:, 1]\n",
    "    \n",
    "    return {\n",
    "        \"group\": classification_report(true_groups, pred_groups, output_dict=output_dict),\n",
    "        \"theme\": classification_report(true_themes, pred_themes, output_dict=output_dict)\n",
    "    }"
   ]
  },
  {
   "cell_type": "code",
   "execution_count": 183,
   "id": "b1628e5f-3bb7-4630-bfc1-7af380a98628",
   "metadata": {
    "tags": []
   },
   "outputs": [
    {
     "data": {
      "application/vnd.jupyter.widget-view+json": {
       "model_id": "d3469af9f54e4152a9f9914a7a5fb870",
       "version_major": 2,
       "version_minor": 0
      },
      "text/plain": [
       "  0%|          | 0/24287 [00:00<?, ?it/s]"
      ]
     },
     "metadata": {},
     "output_type": "display_data"
    }
   ],
   "source": [
    "outputs_train = model(train_embeddings)\n",
    "\n",
    "predictions_train = predict(outputs_train, tree)\n",
    "predictions_train = decode_predictions(predictions_train)\n",
    "\n",
    "# outputs_test = model(test_embeddings)\n",
    "\n",
    "# predictions_test = predict(outputs_test, tree)\n",
    "# predictions_test = decode_predictions(predictions_test)"
   ]
  },
  {
   "cell_type": "code",
   "execution_count": 184,
   "id": "ecbf7cad-5df8-4e13-8576-93b09609e68f",
   "metadata": {
    "tags": []
   },
   "outputs": [],
   "source": [
    "train_true = train[[\"Группа тем\", \"Тема\"]].values\n",
    "#test_true = test[[\"Группа тем\", \"Тема\"]].values"
   ]
  },
  {
   "cell_type": "code",
   "execution_count": 185,
   "id": "ef8b9fe3-beb0-458c-80e8-329d0818de97",
   "metadata": {
    "tags": []
   },
   "outputs": [
    {
     "name": "stderr",
     "output_type": "stream",
     "text": [
      "/opt/conda/lib/python3.10/site-packages/sklearn/metrics/_classification.py:1471: UndefinedMetricWarning: Precision and F-score are ill-defined and being set to 0.0 in labels with no predicted samples. Use `zero_division` parameter to control this behavior.\n",
      "  _warn_prf(average, modifier, msg_start, len(result))\n",
      "/opt/conda/lib/python3.10/site-packages/sklearn/metrics/_classification.py:1471: UndefinedMetricWarning: Precision and F-score are ill-defined and being set to 0.0 in labels with no predicted samples. Use `zero_division` parameter to control this behavior.\n",
      "  _warn_prf(average, modifier, msg_start, len(result))\n",
      "/opt/conda/lib/python3.10/site-packages/sklearn/metrics/_classification.py:1471: UndefinedMetricWarning: Precision and F-score are ill-defined and being set to 0.0 in labels with no predicted samples. Use `zero_division` parameter to control this behavior.\n",
      "  _warn_prf(average, modifier, msg_start, len(result))\n"
     ]
    }
   ],
   "source": [
    "train_report = evaluate(train_true, predictions_train)\n",
    "#test_report = evaluate(test_true, predictions_test)"
   ]
  },
  {
   "cell_type": "code",
   "execution_count": 186,
   "id": "16e1e198-8eb3-43f5-ab64-f82f69013901",
   "metadata": {},
   "outputs": [
    {
     "data": {
      "text/plain": [
       "{'precision': 0.9661065375097418,\n",
       " 'recall': 0.9651665500061761,\n",
       " 'f1-score': 0.9646109453423609,\n",
       " 'support': 24287.0}"
      ]
     },
     "execution_count": 186,
     "metadata": {},
     "output_type": "execute_result"
    }
   ],
   "source": [
    "train_report[\"group\"][\"weighted avg\"]"
   ]
  },
  {
   "cell_type": "code",
   "execution_count": 192,
   "id": "0c06951a-a473-4bf8-9147-39e6a83830a5",
   "metadata": {},
   "outputs": [],
   "source": [
    "final_test_roma = pd.read_csv(\"data/final_full_test_tfidf_umap.csv\")\n",
    "final_test_vova = pd.read_csv(\"\")"
   ]
  },
  {
   "cell_type": "code",
   "execution_count": 195,
   "id": "cb8311d1-5a01-4254-9703-eca17869148b",
   "metadata": {},
   "outputs": [],
   "source": [
    "torch.save(model.state_dict(), \"model/final_model_for_deploying_roma\")"
   ]
  },
  {
   "cell_type": "code",
   "execution_count": 196,
   "id": "d1ac3747-743c-459c-8dc2-94d79fecf42f",
   "metadata": {},
   "outputs": [
    {
     "data": {
      "text/plain": [
       "Model(\n",
       "  (input): Linear(in_features=1524, out_features=1024, bias=True)\n",
       "  (relu): ReLU()\n",
       "  (layers): ModuleList(\n",
       "    (0): Layer(\n",
       "      (linear): Sequential(\n",
       "        (0): Linear(in_features=1024, out_features=1024, bias=True)\n",
       "        (1): BatchNorm1d(1024, eps=1e-05, momentum=0.1, affine=True, track_running_stats=True)\n",
       "        (2): ReLU()\n",
       "      )\n",
       "    )\n",
       "  )\n",
       "  (output): Linear(in_features=1024, out_features=221, bias=True)\n",
       ")"
      ]
     },
     "execution_count": 196,
     "metadata": {},
     "output_type": "execute_result"
    }
   ],
   "source": [
    "model"
   ]
  },
  {
   "cell_type": "code",
   "execution_count": null,
   "id": "c6057f3c-fbd6-4c1c-b888-dd7a83422ac8",
   "metadata": {},
   "outputs": [],
   "source": []
  }
 ],
 "metadata": {
  "kernelspec": {
   "display_name": "Python 3 (ipykernel)",
   "language": "python",
   "name": "python3"
  },
  "language_info": {
   "codemirror_mode": {
    "name": "ipython",
    "version": 3
   },
   "file_extension": ".py",
   "mimetype": "text/x-python",
   "name": "python",
   "nbconvert_exporter": "python",
   "pygments_lexer": "ipython3",
   "version": "3.10.13"
  }
 },
 "nbformat": 4,
 "nbformat_minor": 5
}
